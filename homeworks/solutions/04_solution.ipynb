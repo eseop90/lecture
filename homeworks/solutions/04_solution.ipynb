{
 "cells": [
  {
   "cell_type": "markdown",
   "metadata": {},
   "source": [
    "# <center>제어문(if 문, while 문, for 문)</center>\n",
    "\n",
    "##### \\#\\# insert에 코드를 작성하여 eseop90@gmail.com에 제출하시오."
   ]
  },
  {
   "cell_type": "markdown",
   "metadata": {},
   "source": [
    "1. 사용자로부터 하나의 숫자를 입력 받고 짝수/홀수를 판별하라."
   ]
  },
  {
   "cell_type": "code",
   "execution_count": 1,
   "metadata": {},
   "outputs": [
    {
     "name": "stdout",
     "output_type": "stream",
     "text": [
      "홀수\n"
     ]
    }
   ],
   "source": [
    "user = input()\n",
    "if int(user) % 2 == 0:\n",
    "    print(\"짝수\")\n",
    "else:\n",
    "    print(\"홀수\")"
   ]
  },
  {
   "cell_type": "markdown",
   "metadata": {},
   "source": [
    "2. 사용자로부터 하나의 값을 입력받은 후 해당 값에 20을 뺀 값을 출력하라. 단 출력 값의 범위는 0~255이다. 예를 들어 결과값이 0보다 작은 값이되는 경우 0을 출력하고 255보다 큰 값이 되는 경우 255를 출력해야 한다."
   ]
  },
  {
   "cell_type": "markdown",
   "metadata": {},
   "source": [
    "예:\n",
    "\n",
    "\\>> 입력값: 200  \n",
    "출력값: 180\n",
    "\n",
    "\\>> 입력값: 280  \n",
    "출력값: 255\n",
    "\n",
    "\\>> 입력값: 15  \n",
    "출력값: 0"
   ]
  },
  {
   "cell_type": "code",
   "execution_count": 5,
   "metadata": {},
   "outputs": [
    {
     "name": "stdout",
     "output_type": "stream",
     "text": [
      "0\n"
     ]
    }
   ],
   "source": [
    "user = input(\"입력값: \")\n",
    "num = int(user) - 20\n",
    "if num > 255:\n",
    "    print(255)\n",
    "elif num < 0:\n",
    "    print(0)\n",
    "else:\n",
    "    print(num)"
   ]
  },
  {
   "cell_type": "markdown",
   "metadata": {},
   "source": [
    "3. 사용자로부터 입력 받은 시간이 정각인지 판별하라."
   ]
  },
  {
   "cell_type": "markdown",
   "metadata": {},
   "source": [
    "예:\n",
    "\n",
    "\\>> >> 현재시간:02:00  \n",
    "정각 입니다.\n",
    "\n",
    "\\>> 현재시간:03:10  \n",
    "정각이 아닙니다."
   ]
  },
  {
   "cell_type": "code",
   "execution_count": 7,
   "metadata": {},
   "outputs": [
    {
     "name": "stdout",
     "output_type": "stream",
     "text": [
      "정각이 아닙니다.\n"
     ]
    }
   ],
   "source": [
    "time = input(\"현재시간: \")\n",
    "if time[-2:] == \"00\":\n",
    "    print(\"정각 입니다.\")\n",
    "else:\n",
    "    print(\"정각이 아닙니다.\")"
   ]
  },
  {
   "cell_type": "markdown",
   "metadata": {},
   "source": [
    "4. 사용자로 입력받은 단어가 아래 fruit 리스트에 포함되어 있는지를 확인하라. 포함되었다면 \"정답입니다\"를 아닐 경우 \"오답입니다\" 출력하라."
   ]
  },
  {
   "cell_type": "code",
   "execution_count": null,
   "metadata": {},
   "outputs": [],
   "source": [
    "fruit = [\"사과\", \"포도\", \"홍시\"]"
   ]
  },
  {
   "cell_type": "markdown",
   "metadata": {},
   "source": [
    "예:\n",
    "\n",
    "\\>> 좋아하는 과일은? 사과  \n",
    "정답입니다."
   ]
  },
  {
   "cell_type": "code",
   "execution_count": 8,
   "metadata": {},
   "outputs": [
    {
     "name": "stdout",
     "output_type": "stream",
     "text": [
      "정답입니다.\n"
     ]
    }
   ],
   "source": [
    "fruit = [\"사과\", \"포도\", \"홍시\"]\n",
    "user = input(\"좋아하는 과일은?\")\n",
    "if user in fruit:\n",
    "    print(\"정답입니다.\")\n",
    "else:\n",
    "    print(\"오답입니다.\")"
   ]
  },
  {
   "cell_type": "markdown",
   "metadata": {},
   "source": [
    "5. 투자 경고 종목 리스트가 있을 때 사용자로부터 종목명을 입력 받은 후 해당 종목이 투자 경고 종목이라면 '투자 경고 종목입니다'를 아니면 \"투자 경고 종목이 아닙니다.\"를 출력하는 프로그램을 작성하라."
   ]
  },
  {
   "cell_type": "code",
   "execution_count": null,
   "metadata": {},
   "outputs": [],
   "source": [
    "warn_investment_list = [\"Microsoft\", \"Google\", \"Naver\", \"Kakao\", \"SAMSUNG\", \"LG\"]"
   ]
  },
  {
   "cell_type": "code",
   "execution_count": 10,
   "metadata": {},
   "outputs": [
    {
     "name": "stdout",
     "output_type": "stream",
     "text": [
      "투자 경고 종목입니다.\n"
     ]
    }
   ],
   "source": [
    "warn_investment_list = [\"Microsoft\", \"Google\", \"Naver\", \"Kakao\", \"SAMSUNG\", \"LG\"]\n",
    "name = input(\"종목명: \")\n",
    "if name in warn_investment_list:\n",
    "    print(\"투자 경고 종목입니다.\")\n",
    "else:\n",
    "    print(\"투자 경고 종목이 아닙니다.\")"
   ]
  },
  {
   "cell_type": "markdown",
   "metadata": {},
   "source": [
    "6. 아래와 같이 fruit 딕셔너리가 정의되어 있다. 사용자가 입력한 값이 딕셔너리 키 (key) 값에 포함되었다면 \"정답입니다\"를 아닐 경우 \"오답입니다\" 출력하라."
   ]
  },
  {
   "cell_type": "code",
   "execution_count": null,
   "metadata": {},
   "outputs": [],
   "source": [
    "fruit = {\"봄\" : \"딸기\", \"여름\" : \"토마토\", \"가을\" : \"사과\"}"
   ]
  },
  {
   "cell_type": "markdown",
   "metadata": {},
   "source": [
    "예:\n",
    "\n",
    "\\>> 제가좋아하는계절은: 봄  \n",
    "정답입니다."
   ]
  },
  {
   "cell_type": "code",
   "execution_count": 17,
   "metadata": {},
   "outputs": [
    {
     "name": "stdout",
     "output_type": "stream",
     "text": [
      "정답입니다.\n"
     ]
    }
   ],
   "source": [
    "fruit = {\"봄\" : \"딸기\", \"여름\" : \"토마토\", \"가을\" : \"사과\"}\n",
    "user = input(\"제가좋아하는계절은: \")\n",
    "if user in fruit: # if user in fruit.keys(): 도 가능\n",
    "    print(\"정답입니다.\")\n",
    "else:\n",
    "    print(\"오답입니다.\")"
   ]
  },
  {
   "cell_type": "markdown",
   "metadata": {},
   "source": [
    "7. 아래와 같이 fruit 딕셔너리가 정의되어 있다. 사용자가 입력한 값이 딕셔너리 값 (value)에 포함되었다면 \"정답입니다\"를 아닐 경우 \"오답입니다\" 출력하라."
   ]
  },
  {
   "cell_type": "code",
   "execution_count": null,
   "metadata": {},
   "outputs": [],
   "source": [
    "fruit = {\"봄\" : \"딸기\", \"여름\" : \"토마토\", \"가을\" : \"사과\"}"
   ]
  },
  {
   "cell_type": "markdown",
   "metadata": {},
   "source": [
    "예:\n",
    "\n",
    "\n",
    "\\>> 좋아하는과일은? 한라봉  \n",
    "오답입니다."
   ]
  },
  {
   "cell_type": "code",
   "execution_count": 19,
   "metadata": {},
   "outputs": [
    {
     "name": "stdout",
     "output_type": "stream",
     "text": [
      "오답입니다.\n"
     ]
    }
   ],
   "source": [
    "fruit = {\"봄\" : \"딸기\", \"여름\" : \"토마토\", \"가을\" : \"사과\"}\n",
    "user = input(\"좋아하는 과일은?\")\n",
    "if user in fruit.values():\n",
    "    print(\"정답입니다.\")\n",
    "else:\n",
    "    print(\"오답입니다.\")"
   ]
  },
  {
   "cell_type": "markdown",
   "metadata": {},
   "source": [
    "8. 사용자로부터 문자 한 개를 입력 받고, 소문자일 경우 대문자로, 대문자 일 경우, 소문자로 변경해서 출력하라."
   ]
  },
  {
   "cell_type": "markdown",
   "metadata": {},
   "source": [
    "예:\n",
    "\n",
    "\\>> a  \n",
    "A"
   ]
  },
  {
   "cell_type": "code",
   "execution_count": 27,
   "metadata": {},
   "outputs": [
    {
     "name": "stdout",
     "output_type": "stream",
     "text": [
      "a\n"
     ]
    }
   ],
   "source": [
    "# # solution 1\n",
    "user = input()\n",
    "is_upper = user in ['A', 'B', 'C','D', 'E', 'F', 'G', 'H', 'I', 'J', 'K', 'L', 'M', 'N', 'O', 'P', 'Q', 'R', 'S', 'T', 'U', 'V', 'W', 'X', 'Y', 'Z']\n",
    "if is_upper:\n",
    "    print(user.upper())\n",
    "else:\n",
    "    print(user.lower())\n",
    "\n",
    "# solution 2\n",
    "user = input()\n",
    "is_lower = (user == user.lower())\n",
    "if is_lower:\n",
    "    print(user.upper())\n",
    "else:\n",
    "    print(user.lower())\n",
    "\n",
    "# solution 3\n",
    "user = input()\n",
    "if user.islower():\n",
    "    print(user.upper())\n",
    "else:\n",
    "    print(user.lower())"
   ]
  },
  {
   "cell_type": "markdown",
   "metadata": {},
   "source": [
    "9. 점수 구간에 해당하는 학점이 아래와 같이 정의되어 있다. 사용자로부터 score를 입력받아 학점을 출력하라.\n",
    "\n",
    "|점수|학점|\n",
    "|---|---|\n",
    "|81~100|A|\n",
    "|61~80|B|\n",
    "|41~60|C|\n",
    "|21~40|D|\n",
    "|0~20|E|"
   ]
  },
  {
   "cell_type": "markdown",
   "metadata": {},
   "source": [
    "예:\n",
    "\n",
    "\\>> score: 83  \n",
    "grade is A"
   ]
  },
  {
   "cell_type": "code",
   "execution_count": 28,
   "metadata": {},
   "outputs": [
    {
     "name": "stdout",
     "output_type": "stream",
     "text": [
      "grade is A\n"
     ]
    }
   ],
   "source": [
    "score = input(\"score: \")\n",
    "score = int(score)\n",
    "if 81 <= score <= 100:\n",
    "    print(\"grade is A\")\n",
    "elif 61 <= score <= 80:\n",
    "    print(\"grade is B\")\n",
    "elif 41 <= score <= 60:\n",
    "    print(\"grade is C\")\n",
    "elif 21 <= score <= 40:\n",
    "    print(\"grade is D\")\n",
    "else:\n",
    "    print(\"grade is E\")"
   ]
  },
  {
   "cell_type": "markdown",
   "metadata": {},
   "source": [
    "10. 사용자로부터 달러, 엔, 유로, 또는 위안 금액을 입력받은 후 이를 원으로 변환하는 프로그램을 작성하라. 각 통화별 환율은 다음과 같다. 사용자는 100 달러, 1000 엔, 13 유로, 100 위안과 같이 금액과 통화명 사이에 공백을 넣어 입력한다고 가정한다.\n",
    "\n",
    "|통화명|환율|\n",
    "|---|---|\n",
    "|달러|1167|\n",
    "|엔|1.096|\n",
    "|유로|1268|\n",
    "|위안|171|"
   ]
  },
  {
   "cell_type": "markdown",
   "metadata": {},
   "source": [
    "예:\n",
    "\n",
    "\\>> 입력: 100 달러  \n",
    "116700.00 원"
   ]
  },
  {
   "cell_type": "code",
   "execution_count": null,
   "metadata": {},
   "outputs": [],
   "source": [
    "## insert"
   ]
  },
  {
   "cell_type": "markdown",
   "metadata": {},
   "source": [
    "11. 사용자로부터 세 개의 숫자를 입력 받은 후 가장 큰 숫자를 출력하라."
   ]
  },
  {
   "cell_type": "markdown",
   "metadata": {},
   "source": [
    "예:\n",
    "\n",
    "\\>> input number1: 10  \n",
    "\\>> input number2: 9  \n",
    "\\>> input number3: 20  \n",
    "20"
   ]
  },
  {
   "cell_type": "code",
   "execution_count": 29,
   "metadata": {},
   "outputs": [
    {
     "name": "stdout",
     "output_type": "stream",
     "text": [
      "20\n"
     ]
    }
   ],
   "source": [
    "num1 = input(\"input number1: \")\n",
    "num2 = input(\"input number2: \")\n",
    "num3 = input(\"input number3: \")\n",
    "num1 = int(num1)\n",
    "num2 = int(num2)\n",
    "num3 = int(num3)\n",
    "\n",
    "if num1 >= num2 and num1 >= num3:\n",
    "    print(num1)\n",
    "elif num2 >= num1 and num2 >= num3:\n",
    "    print(num2)\n",
    "else:\n",
    "    print(num3)"
   ]
  },
  {
   "cell_type": "markdown",
   "metadata": {},
   "source": [
    "12. for 문을 사용해서 리스트에 저장된 값을 다음과 같이 출력하라."
   ]
  },
  {
   "cell_type": "code",
   "execution_count": null,
   "metadata": {},
   "outputs": [],
   "source": [
    "리스트 = [\"김밥\", \"라면\", \"튀김\"]"
   ]
  },
  {
   "cell_type": "markdown",
   "metadata": {},
   "source": [
    "예:\n",
    "\n",
    "오늘의 메뉴: 김밥  \n",
    "오늘의 메뉴: 라면  \n",
    "오늘의 메뉴: 튀김"
   ]
  },
  {
   "cell_type": "code",
   "execution_count": 30,
   "metadata": {},
   "outputs": [
    {
     "name": "stdout",
     "output_type": "stream",
     "text": [
      "오늘의 메뉴: 김밥\n",
      "오늘의 메뉴: 라면\n",
      "오늘의 메뉴: 튀김\n"
     ]
    }
   ],
   "source": [
    "menus = [\"김밥\", \"라면\", \"튀김\"]\n",
    "\n",
    "for _menu in menus:\n",
    "    print(f\"오늘의 메뉴: {_menu}\")"
   ]
  },
  {
   "cell_type": "markdown",
   "metadata": {},
   "source": [
    "13. 리스트에는 동물이름이 문자열로 저장돼 있다. 동물 이름과 글자수를 다음과 같이 출력하라."
   ]
  },
  {
   "cell_type": "code",
   "execution_count": null,
   "metadata": {},
   "outputs": [],
   "source": [
    "리스트 = ['dog', 'cat', 'parrot']"
   ]
  },
  {
   "cell_type": "markdown",
   "metadata": {},
   "source": [
    "예:\n",
    "\n",
    "dog 3  \n",
    "cat 3  \n",
    "parrot 6  "
   ]
  },
  {
   "cell_type": "code",
   "execution_count": 31,
   "metadata": {},
   "outputs": [
    {
     "name": "stdout",
     "output_type": "stream",
     "text": [
      "dog 3\n",
      "cat 3\n",
      "parrot 6\n"
     ]
    }
   ],
   "source": [
    "animals = ['dog', 'cat', 'parrot']\n",
    "\n",
    "for _animal in animals:\n",
    "    print(f\"{_animal} {len(_animal)}\")"
   ]
  },
  {
   "cell_type": "markdown",
   "metadata": {},
   "source": [
    "14. 리스트에는 네 개의 정수가 저장돼 있다. for 문을 사용해서 리스트의 음수를 출력하라."
   ]
  },
  {
   "cell_type": "code",
   "execution_count": null,
   "metadata": {},
   "outputs": [],
   "source": [
    "number = [3, -20, -3, 44]"
   ]
  },
  {
   "cell_type": "markdown",
   "metadata": {},
   "source": [
    "예:\n",
    "\n",
    "-20  \n",
    "-3"
   ]
  },
  {
   "cell_type": "code",
   "execution_count": 33,
   "metadata": {},
   "outputs": [
    {
     "name": "stdout",
     "output_type": "stream",
     "text": [
      "-20\n",
      "-3\n"
     ]
    }
   ],
   "source": [
    "number = [3, -20, -3, 44]\n",
    "for _num in number:\n",
    "    if _num < 0:\n",
    "        print(_num)"
   ]
  },
  {
   "cell_type": "markdown",
   "metadata": {},
   "source": [
    "15. 이름의 첫 글자를 대문자로 변경해서 출력하라."
   ]
  },
  {
   "cell_type": "code",
   "execution_count": null,
   "metadata": {},
   "outputs": [],
   "source": [
    "animals = ['dog', 'cat', 'parrot'] "
   ]
  },
  {
   "cell_type": "markdown",
   "metadata": {},
   "source": [
    "예:\n",
    "\n",
    "Dog  \n",
    "Cat  \n",
    "Parrot"
   ]
  },
  {
   "cell_type": "code",
   "execution_count": 34,
   "metadata": {},
   "outputs": [
    {
     "name": "stdout",
     "output_type": "stream",
     "text": [
      "Dog\n",
      "Cat\n",
      "Parrot\n"
     ]
    }
   ],
   "source": [
    "animals = ['dog', 'cat', 'parrot']\n",
    "for _animal in animals:\n",
    "  first_ch = _animal[0]\n",
    "  upper_first_ch = first_ch.upper()\n",
    "  print(upper_first_ch + _animal[1:]) "
   ]
  },
  {
   "cell_type": "markdown",
   "metadata": {},
   "source": [
    "16. 파일 이름이 저장된 리스트에서 확장자를 제거하고 파일 이름만 화면에 출력하라."
   ]
  },
  {
   "cell_type": "code",
   "execution_count": null,
   "metadata": {},
   "outputs": [],
   "source": [
    "file_list = ['hello.py', 'ex01.py', 'intro.hwp']"
   ]
  },
  {
   "cell_type": "markdown",
   "metadata": {},
   "source": [
    "예:\n",
    "\n",
    "hello\n",
    "ex01\n",
    "intro"
   ]
  },
  {
   "cell_type": "code",
   "execution_count": 35,
   "metadata": {},
   "outputs": [
    {
     "name": "stdout",
     "output_type": "stream",
     "text": [
      "hello\n",
      "ex01\n",
      "intro\n"
     ]
    }
   ],
   "source": [
    "file_list = ['hello.py', 'ex01.py', 'intro.hwp']\n",
    "for _file in file_list:\n",
    "  split = _file.split(\".\")\n",
    "  print(split[0])  "
   ]
  },
  {
   "cell_type": "markdown",
   "metadata": {},
   "source": [
    "17. 월드컵은 4년에 한 번 개최된다. range()를 사용하여 2002~2050년까지 중 월드컵이 개최되는 연도를 출력하라."
   ]
  },
  {
   "cell_type": "markdown",
   "metadata": {},
   "source": [
    "예:\n",
    "\n",
    "2002  \n",
    "2006  \n",
    "2010  \n",
    "...  \n",
    "2042  \n",
    "2046  \n",
    "2050  "
   ]
  },
  {
   "cell_type": "code",
   "execution_count": 36,
   "metadata": {},
   "outputs": [
    {
     "name": "stdout",
     "output_type": "stream",
     "text": [
      "2002\n",
      "2006\n",
      "2010\n",
      "2014\n",
      "2018\n",
      "2022\n",
      "2026\n",
      "2030\n",
      "2034\n",
      "2038\n",
      "2042\n",
      "2046\n",
      "2050\n"
     ]
    }
   ],
   "source": [
    "for x in range(2002, 2051, 4) :\n",
    "    print (x)"
   ]
  },
  {
   "cell_type": "markdown",
   "metadata": {},
   "source": [
    "18. 리스트에 저장된 데이터를 아래와 같이 출력하라."
   ]
  },
  {
   "cell_type": "code",
   "execution_count": null,
   "metadata": {},
   "outputs": [],
   "source": [
    "apart = [ [101, 102], [201, 202], [301, 302] ]"
   ]
  },
  {
   "cell_type": "markdown",
   "metadata": {},
   "source": [
    "예:\n",
    "\n",
    "101 호  \n",
    "102 호  \n",
    "\\-----  \n",
    "201 호  \n",
    "202 호  \n",
    "\\-----  \n",
    "301 호  \n",
    "302 호  \n",
    "\\-----  "
   ]
  },
  {
   "cell_type": "code",
   "execution_count": 41,
   "metadata": {},
   "outputs": [
    {
     "name": "stdout",
     "output_type": "stream",
     "text": [
      "101 호\n",
      "102 호\n",
      "-----\n",
      "201 호\n",
      "202 호\n",
      "-----\n",
      "301 호\n",
      "302 호\n",
      "-----\n"
     ]
    }
   ],
   "source": [
    "apart = [ [101, 102], [201, 202], [301, 302] ]\n",
    "\n",
    "for row in apart:\n",
    "    for col in row:\n",
    "        print(col, \"호\")\n",
    "    print(\"-----\")"
   ]
  },
  {
   "cell_type": "markdown",
   "metadata": {},
   "source": [
    "19. ohlc 리스트에는 시가(open), 고가(high), 저가(low) , 종가(close)가 날짜별로 저장돼 있다. 종가가 시가 보다 크거나 같은 경우에만 종가를 출력하라."
   ]
  },
  {
   "cell_type": "code",
   "execution_count": null,
   "metadata": {},
   "outputs": [],
   "source": [
    "ohlc = [[\"open\", \"high\", \"low\", \"close\"],\n",
    "        [100, 110, 70, 100],\n",
    "        [200, 210, 180, 190],\n",
    "        [300, 310, 300, 310]]"
   ]
  },
  {
   "cell_type": "markdown",
   "metadata": {},
   "source": [
    "예:\n",
    "\n",
    "100  \n",
    "310  "
   ]
  },
  {
   "cell_type": "code",
   "execution_count": 42,
   "metadata": {},
   "outputs": [
    {
     "name": "stdout",
     "output_type": "stream",
     "text": [
      "100\n",
      "190\n",
      "310\n"
     ]
    }
   ],
   "source": [
    "ohlc = [[\"open\", \"high\", \"low\", \"close\"],\n",
    "        [100, 110, 70, 100],\n",
    "        [200, 210, 180, 190],\n",
    "        [300, 310, 300, 310]]\n",
    "\n",
    "for row in ohlc[1:]:\n",
    "    print(row[3])"
   ]
  },
  {
   "cell_type": "markdown",
   "metadata": {},
   "source": [
    "20. 리스트에는 3일 간의 ohlc 데이터가 저장돼 있다. 종가가 시가보다 높은 날의 변동성 (고가 - 저가)을 화면에 출력하라."
   ]
  },
  {
   "cell_type": "code",
   "execution_count": null,
   "metadata": {},
   "outputs": [],
   "source": [
    "ohlc = [[\"open\", \"high\", \"low\", \"close\"],\n",
    "        [100, 110, 70, 100],\n",
    "        [200, 210, 180, 190],\n",
    "        [300, 310, 300, 310]]"
   ]
  },
  {
   "cell_type": "code",
   "execution_count": 43,
   "metadata": {},
   "outputs": [
    {
     "name": "stdout",
     "output_type": "stream",
     "text": [
      "10\n"
     ]
    }
   ],
   "source": [
    "ohlc = [[\"open\", \"high\", \"low\", \"close\"],\n",
    "        [100, 110, 70, 100],\n",
    "        [200, 210, 180, 190],\n",
    "        [300, 310, 300, 310]]\n",
    "\n",
    "for row in ohlc[1:]:\n",
    "    if row[3] > row[0]:\n",
    "        print(row[1]-row[2])"
   ]
  },
  {
   "cell_type": "markdown",
   "metadata": {},
   "source": [
    "21. 컴퓨터가 정한 1에서 10 사이의 정수인 정답을 사용자가 맞히는 프로그램을 작성해 보자. 사용자가 정답을 맞출 때까지 계속 힌트를 준다. 입력한 수보다 '작은 수' 또는 '큰 수'라는 정보를 제공해 사용자가 정답을 맞힐 확률을 높인다.\n",
    "\n",
    "예:\n",
    "\n",
    "1에서 10 사이의 수를 맞히세요 >> 5  \n",
    "5보다 더 작은 수로 다시 입력 >> 3  \n",
    "3보다 더 큰 수로 다시 입력 >> 4  \n",
    "축하한다. 정답이다.  \n",
    "******** 종료 ********\n",
    "\n",
    "힌트: 아래의 random 함수를 사용하라."
   ]
  },
  {
   "cell_type": "code",
   "execution_count": null,
   "metadata": {},
   "outputs": [],
   "source": [
    "import random\n",
    "print(random.randint(1, 10))"
   ]
  },
  {
   "cell_type": "code",
   "execution_count": 46,
   "metadata": {},
   "outputs": [
    {
     "name": "stdout",
     "output_type": "stream",
     "text": [
      "축하한다. 정답이다.\n"
     ]
    }
   ],
   "source": [
    "import random\n",
    "answer = random.randint(1, 10)\n",
    "\n",
    "_num = int(input(\"1에서 10 사이의 수를 맞히세요>>\"))\n",
    "\n",
    "while True:\n",
    "    if _num == answer:\n",
    "        print('축하한다. 정답이다.')\n",
    "        break\n",
    "    elif _num > answer:\n",
    "        _num = int(input(f\"{_num}보다 더 작은 수로 다시 입력>>\"))\n",
    "    elif _num < answer:\n",
    "        _num = int(input(f\"{_num}보다 더 큰 수로 다시 입력>>\"))"
   ]
  },
  {
   "cell_type": "markdown",
   "metadata": {},
   "source": [
    "22. 요즘은 식당이나 커피 전문점에서 셀프 주문기를 자주 본다. 주문을 위해 커피 종류와 수량을 입력받아 총 주문 가격을 출력하는 프로그램을 작성해 보자. 커피의 종류는 네 가지이며, 0을 입력하면 주문을 종료한다. 1에서 4까지의 커피를 주문하면 바로 수량을 입력받도록 한다. 한 종류의 커피와 수량을 입력받으면 그때까지의 주문 가격도 표시하며, 주문이 종료되면 총 주문 가격을 출력한다. while True:로 무한 반복하다가 주문이 종료되면 break로 종료하도록 프로그램을 작성해 보자.\n",
    "\n",
    "|메뉴|가격|\n",
    "|---|---|\n",
    "|1. 아메리카노|2000|\n",
    "|2. 카페라떼|2500|\n",
    "|3. 카푸치노|3000|\n",
    "|4. 카라멜마키아또|4000|\n",
    "|0. 주문 종료| |\n",
    "\n",
    "예:\n",
    "\n",
    "환영합니다. 음료를 선택하세요.  \n",
    "1. 아메리카노       2000  \n",
    "2. 카페라떼         2500  \n",
    "3. 카푸치노         3000  \n",
    "4. 카라멜마키아또     4000  \n",
    "종류? 1  \n",
    "수량? 1  \n",
    "아메리카노 1개 주문  \n",
    "현재 주문 가격: 2000원  \n",
    "\n",
    "환영합니다. 음료를 선택하세요.   \n",
    "1. 아메리카노       2000  \n",
    "2. 카페라떼         2500  \n",
    "3. 카푸치노         3000  \n",
    "4. 카라멜마키아또     4000  \n",
    "종류? 2  \n",
    "수량? 2  \n",
    "카페라떼 2개 주문  \n",
    "현재 주문 가격: 7000원  \n",
    "\n",
    "환영합니다. 음료를 선택하세요.   \n",
    "1. 아메리카노       2000  \n",
    "2. 카페라떼         2500  \n",
    "3. 카푸치노         3000  \n",
    "4. 카라멜마키아또     4000  \n",
    "종류? 0\n",
    "\n",
    "******** 주문 종료 ********  \n",
    "총 주문 가격: 7000원  \n",
    "======= 안녕! =======   "
   ]
  },
  {
   "cell_type": "code",
   "execution_count": 2,
   "metadata": {},
   "outputs": [
    {
     "name": "stdout",
     "output_type": "stream",
     "text": [
      "환영합니다. 음료를 선택하세요.\n",
      "아메리카노 2000개 주문\n",
      "현재 주문 가격: 2000\n",
      "\n",
      "카페라떼 2500개 주문\n",
      "현재 주문 가격: 7000\n",
      "\n",
      "******** 주문 종료 ********\n",
      "총 주문 가격: 7000원\n",
      "======= 안녕! =======\n"
     ]
    }
   ],
   "source": [
    "menu = '''\n",
    "1. 아메리카노       2000\n",
    "2. 카페라떼        2500\n",
    "3. 카푸치노노       3000\n",
    "4. 카라멜마키아또    4000\n",
    "0. 주문 종료\n",
    "종류? '''\n",
    "\n",
    "print(\"환영합니다. 음료를 선택하세요.\")\n",
    "total = 0\n",
    "\n",
    "order_sentent = \"{} {}개 주문\"\n",
    "\n",
    "while True:\n",
    "    order = int(input(menu))\n",
    "    if order == 0:\n",
    "        print('******** 주문 종료 ********')\n",
    "        break\n",
    "    else:\n",
    "        cnt = int(input('수량? '))\n",
    "        if order == 1:\n",
    "            total += cnt * 2000\n",
    "            print(order_sentent.format('아메리카노', 2000))\n",
    "        elif order == 2:\n",
    "            total += cnt * 2500\n",
    "            print(order_sentent.format('카페라떼', 2500))\n",
    "        elif order == 3:\n",
    "            total += cnt * 3000\n",
    "            print(order_sentent.format('카푸키노', 3000))\n",
    "        elif order == 4:\n",
    "            total += cnt * 4000\n",
    "            print(order_sentent.format('카라멜마키아또', 4000))\n",
    "        else:\n",
    "            print(\"다시 입력하시오.\")\n",
    "    \n",
    "    print(f\"현재 주문 가격: {total}\")\n",
    "    print()\n",
    "\n",
    "print(f\"총 주문 가격: {total}원\")\n",
    "print(\"======= 안녕! =======\")"
   ]
  }
 ],
 "metadata": {
  "kernelspec": {
   "display_name": "Python 3",
   "language": "python",
   "name": "python3"
  },
  "language_info": {
   "codemirror_mode": {
    "name": "ipython",
    "version": 3
   },
   "file_extension": ".py",
   "mimetype": "text/x-python",
   "name": "python",
   "nbconvert_exporter": "python",
   "pygments_lexer": "ipython3",
   "version": "3.12.2"
  }
 },
 "nbformat": 4,
 "nbformat_minor": 2
}
